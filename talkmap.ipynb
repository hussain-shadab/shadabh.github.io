{
 "cells": [
  {
   "cell_type": "markdown",
   "metadata": {},
   "source": [
    "# Leaflet cluster map of talk locations\n",
    "\n",
    "Run this from the _talks/ directory, which contains .md files of all your talks. This scrapes the location YAML field from each .md file, geolocates it with geopy/Nominatim, and uses the getorg library to output data, HTML, and Javascript for a standalone cluster map."
   ]
  },
  {
   "cell_type": "code",
   "execution_count": 36,
   "metadata": {},
   "outputs": [],
   "source": [
    "# !pip install getorg python-frontmatter"
   ]
  },
  {
   "cell_type": "code",
   "execution_count": 37,
   "metadata": {},
   "outputs": [],
   "source": [
    "import glob\n",
    "import getorg\n",
    "from geopy import Nominatim\n",
    "import frontmatter"
   ]
  },
  {
   "cell_type": "code",
   "execution_count": 38,
   "metadata": {},
   "outputs": [],
   "source": [
    "g = glob.glob(\"_talks/*.md\")"
   ]
  },
  {
   "cell_type": "code",
   "execution_count": 45,
   "metadata": {},
   "outputs": [
    {
     "name": "stderr",
     "output_type": "stream",
     "text": [
      "C:\\Users\\ShadabHussain\\Anaconda3\\lib\\site-packages\\ipykernel_launcher.py:1: DeprecationWarning: Using Nominatim with the default \"geopy/1.20.0\" `user_agent` is strongly discouraged, as it violates Nominatim's ToS https://operations.osmfoundation.org/policies/nominatim/ and may possibly cause 403 and 429 HTTP errors. Please specify a custom `user_agent` with `Nominatim(user_agent=\"my-application\")` or by overriding the default `user_agent`: `geopy.geocoders.options.default_user_agent = \"my-application\"`. In geopy 2.0 this will become an exception.\n",
      "  \"\"\"Entry point for launching an IPython kernel.\n"
     ]
    }
   ],
   "source": [
    "geocoder = Nominatim()\n",
    "location_dict = {}\n",
    "location = \"\"\n",
    "permalink = \"\"\n",
    "title = \"\""
   ]
  },
  {
   "cell_type": "code",
   "execution_count": 46,
   "metadata": {},
   "outputs": [
    {
     "data": {
      "text/plain": [
       "{'title': 'Introduction to Big Data and Trends',\n",
       " 'collection': 'talks',\n",
       " 'type': 'Talk',\n",
       " 'permalink': '/talks/2015-02-08-Introduction-to-Big-Data-and-Trends',\n",
       " 'venue': 'United College of Engineering and Management, Department of Computer Science',\n",
       " 'date': datetime.date(2015, 2, 8),\n",
       " 'location': 'Allahabad, India',\n",
       " 'content': 'In this session, the most emerging research topic “Big Data” was introduced. Big Data is a term used to describe a collection of data that is huge in size and yet growing exponentially with time.\\n\\nTopics Covered:\\n- Why Big Data is needed and what are its applications\\n- Examples of Big Data\\n- the platform on which Big Data works like Hadoop, Hbase and Storm \\n- Advantages of Big Data processing'}"
      ]
     },
     "execution_count": 46,
     "metadata": {},
     "output_type": "execute_result"
    }
   ],
   "source": [
    "a = frontmatter.load(file)\n",
    "a.to_dict()"
   ]
  },
  {
   "cell_type": "code",
   "execution_count": 47,
   "metadata": {},
   "outputs": [
    {
     "name": "stdout",
     "output_type": "stream",
     "text": [
      "Allahabad, India | United Institute of Technology, Department of Computer Science | How Technology Has Changed in The Last 20 Years \n",
      " Allahabad, India \n",
      " Prayagraj, Allahabad, Prayagraj, Uttar Pradesh, 211001, India \n",
      "\n",
      "\n",
      "Allahabad, India | United College of Engineering and Management, Department of Computer Science | Introduction to Big Data and Trends \n",
      " Allahabad, India \n",
      " Prayagraj, Allahabad, Prayagraj, Uttar Pradesh, 211001, India \n",
      "\n",
      "\n",
      "London, UK | Mozilla Festival, Ravensbourne University | Tweet-Driven Mozfest-Storytelling \n",
      " London, UK \n",
      " London, Greater London, England, SW1A 2DX, United Kingdom \n",
      "\n",
      "\n",
      "Bangalore, India | Electronics for You Conference (IoTShow) | Python for Data Science \n",
      " Bangalore, India \n",
      " Bengaluru, Bangalore Urban, Karnataka, India \n",
      "\n",
      "\n",
      "Bangalore, India | Sir M. Visvesvaraya Institute of Technology | Automated Image Captioning using TF 2.0 \n",
      " Bangalore, India \n",
      " Bengaluru, Bangalore Urban, Karnataka, India \n",
      "\n",
      "\n",
      "Bangalore, India | Nitte Meenakshi Institute of Technology | Image Classification using TF 2.0 \n",
      " Bangalore, India \n",
      " Bengaluru, Bangalore Urban, Karnataka, India \n",
      "\n",
      "\n"
     ]
    }
   ],
   "source": [
    "for file in g:\n",
    "    data = frontmatter.load(file)\n",
    "    data_dict = data.to_dict()\n",
    "    location = data_dict['location']\n",
    "    if location[-4:] == \", CA\":\n",
    "        location = location[:-3] + \" California\"\n",
    "    \n",
    "    descript_name = location + \" | \" + data_dict['venue'] + \" | \" + data_dict['title']\n",
    "    location_dict[descript_name] = geocoder.geocode(location)\n",
    "    print(descript_name, \"\\n\", location, \"\\n\", location_dict[descript_name], \"\\n\\n\")\n"
   ]
  },
  {
   "cell_type": "code",
   "execution_count": 48,
   "metadata": {},
   "outputs": [
    {
     "data": {
      "text/plain": [
       "'Written map to talk_map/'"
      ]
     },
     "execution_count": 48,
     "metadata": {},
     "output_type": "execute_result"
    }
   ],
   "source": [
    "m = getorg.orgmap.create_map_obj()\n",
    "getorg.orgmap.output_html_cluster_map(location_dict, folder_name=\"talk_map\", hashed_usernames=False)"
   ]
  }
 ],
 "metadata": {
  "anaconda-cloud": {},
  "kernelspec": {
   "display_name": "Python 3",
   "language": "python",
   "name": "python3"
  },
  "language_info": {
   "codemirror_mode": {
    "name": "ipython",
    "version": 3
   },
   "file_extension": ".py",
   "mimetype": "text/x-python",
   "name": "python",
   "nbconvert_exporter": "python",
   "pygments_lexer": "ipython3",
   "version": "3.7.3"
  }
 },
 "nbformat": 4,
 "nbformat_minor": 1
}
