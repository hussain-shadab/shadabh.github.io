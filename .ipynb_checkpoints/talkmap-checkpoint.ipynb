{
 "cells": [
  {
   "cell_type": "markdown",
   "metadata": {},
   "source": [
    "# Leaflet cluster map of talk locations\n",
    "\n",
    "Run this from the _talks/ directory, which contains .md files of all your talks. This scrapes the location YAML field from each .md file, geolocates it with geopy/Nominatim, and uses the getorg library to output data, HTML, and Javascript for a standalone cluster map."
   ]
  },
  {
   "cell_type": "code",
   "execution_count": 29,
   "metadata": {},
   "outputs": [],
   "source": [
    "# !pip install getorg --upgrade\n",
    "import glob\n",
    "import getorg\n",
    "from geopy import Nominatim\n",
    "import frontmatter"
   ]
  },
  {
   "cell_type": "code",
   "execution_count": 30,
   "metadata": {},
   "outputs": [],
   "source": [
    "g = glob.glob(\"_talks/*.md\")"
   ]
  },
  {
   "cell_type": "code",
   "execution_count": 31,
   "metadata": {},
   "outputs": [
    {
     "name": "stderr",
     "output_type": "stream",
     "text": [
      "C:\\Users\\ShadabHussain\\Anaconda3\\lib\\site-packages\\ipykernel_launcher.py:1: DeprecationWarning: Using Nominatim with the default \"geopy/1.20.0\" `user_agent` is strongly discouraged, as it violates Nominatim's ToS https://operations.osmfoundation.org/policies/nominatim/ and may possibly cause 403 and 429 HTTP errors. Please specify a custom `user_agent` with `Nominatim(user_agent=\"my-application\")` or by overriding the default `user_agent`: `geopy.geocoders.options.default_user_agent = \"my-application\"`. In geopy 2.0 this will become an exception.\n",
      "  \"\"\"Entry point for launching an IPython kernel.\n"
     ]
    }
   ],
   "source": [
    "geocoder = Nominatim()\n",
    "location_dict = {}\n",
    "location = \"\"\n",
    "permalink = \"\"\n",
    "title = \"\""
   ]
  },
  {
   "cell_type": "code",
   "execution_count": 32,
   "metadata": {},
   "outputs": [
    {
     "name": "stdout",
     "output_type": "stream",
     "text": [
      "Allahabad, India | United Institute of Technology, Department of Computer Science | How Technology Has Changed in The Last 20 Years \n",
      " Allahabad, India \n",
      " Prayagraj, Allahabad, Prayagraj, Uttar Pradesh, 211001, India \n",
      "\n",
      "\n",
      "Allahabad, India | United College of Engineering and Management, Department of Computer Science | Introduction to Big Data and Trends \n",
      " Allahabad, India \n",
      " Prayagraj, Allahabad, Prayagraj, Uttar Pradesh, 211001, India \n",
      "\n",
      "\n",
      "London, UK | Mozilla Festival, Ravensbourne University | Tweet-Driven Mozfest-Storytelling \n",
      " London, UK \n",
      " London, Greater London, England, SW1A 2DX, United Kingdom \n",
      "\n",
      "\n",
      "Bangalore, India | Electronics for You Conference (IoTShow) | Python for Data Science \n",
      " Bangalore, India \n",
      " Bengaluru, Bangalore Urban, Karnataka, India \n",
      "\n",
      "\n",
      "Bangalore, India | Sir M. Visvesvaraya Institute of Technology | Automated Image Captioning using TF 2.0 \n",
      " Bangalore, India \n",
      " Bengaluru, Bangalore Urban, Karnataka, India \n",
      "\n",
      "\n",
      "Bangalore, India | Nitte Meenakshi Institute of Technology | Image Classification using TF 2.0 \n",
      " Bangalore, India \n",
      " Bengaluru, Bangalore Urban, Karnataka, India \n",
      "\n",
      "\n"
     ]
    }
   ],
   "source": [
    "for file in g:\n",
    "    data = frontmatter.load(file)\n",
    "    data_dict = data.to_dict()\n",
    "    location = data_dict['location']\n",
    "    descript_name = location + \" | \" + data_dict['venue'] + \" | \" + data_dict['title']\n",
    "    location_dict[location] = geocoder.geocode(location)\n",
    "    print(descript_name, \"\\n\", location, \"\\n\", location_dict[location], \"\\n\\n\")"
   ]
  },
  {
   "cell_type": "code",
   "execution_count": 35,
   "metadata": {},
   "outputs": [
    {
     "data": {
      "text/plain": [
       "{'Allahabad, India': Location(Prayagraj, Allahabad, Prayagraj, Uttar Pradesh, 211001, India, (25.4381302, 81.8338005, 0.0)),\n",
       " 'London, UK': Location(London, Greater London, England, SW1A 2DX, United Kingdom, (51.5073219, -0.1276474, 0.0)),\n",
       " 'Bangalore, India': Location(Bengaluru, Bangalore Urban, Karnataka, India, (12.9791198, 77.5912997, 0.0))}"
      ]
     },
     "execution_count": 35,
     "metadata": {},
     "output_type": "execute_result"
    }
   ],
   "source": [
    "location_dict"
   ]
  },
  {
   "cell_type": "code",
   "execution_count": 34,
   "metadata": {},
   "outputs": [
    {
     "data": {
      "text/plain": [
       "'Written map to ../talkmap/'"
      ]
     },
     "execution_count": 34,
     "metadata": {},
     "output_type": "execute_result"
    }
   ],
   "source": [
    "m = getorg.orgmap.create_map_obj()\n",
    "getorg.orgmap.output_html_cluster_map(location_dict, folder_name=\"../talkmap\", hashed_usernames=False)"
   ]
  }
 ],
 "metadata": {
  "anaconda-cloud": {},
  "kernelspec": {
   "display_name": "Python 3",
   "language": "python",
   "name": "python3"
  },
  "language_info": {
   "codemirror_mode": {
    "name": "ipython",
    "version": 3
   },
   "file_extension": ".py",
   "mimetype": "text/x-python",
   "name": "python",
   "nbconvert_exporter": "python",
   "pygments_lexer": "ipython3",
   "version": "3.7.3"
  }
 },
 "nbformat": 4,
 "nbformat_minor": 1
}
